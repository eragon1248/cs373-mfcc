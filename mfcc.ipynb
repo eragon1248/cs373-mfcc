{
 "cells": [
  {
   "cell_type": "code",
   "execution_count": 1,
   "metadata": {},
   "outputs": [],
   "source": [
    "import scipy.io\n",
    "import matplotlib\n",
    "import numpy"
   ]
  },
  {
   "cell_type": "code",
   "execution_count": 9,
   "metadata": {},
   "outputs": [
    {
     "name": "stdout",
     "output_type": "stream",
     "text": [
      "Sample rate is: 16000 and the number of signals is: 18091\n",
      "This correstponds to 1.1306875 seconds\n"
     ]
    }
   ],
   "source": [
    "#Loading the audio file\n",
    "signal = scipy.io.wavfile.read('signal.wav')\n",
    "numSamples = len(signal[1])\n",
    "print('Sample rate is:', signal[0], 'and the number of signals is:', numSamples)\n",
    "print('This correstponds to', numSamples/signal[0], 'seconds')"
   ]
  },
  {
   "cell_type": "code",
   "execution_count": null,
   "metadata": {},
   "outputs": [],
   "source": [
    "#Mean subtraction\n",
    "mean = sum(signal[1])/numSamples\n",
    "meanSub = [signal[1][i]-mean for i in range(numSamples)]"
   ]
  },
  {
   "cell_type": "code",
   "execution_count": null,
   "metadata": {},
   "outputs": [],
   "source": [
    "#Pre-emphasis\n",
    "b = 0.97 #given constant\n",
    "preEmp = [meanSub[i]-b*meanSub[i-1] for i in range(1, numSamples-1)]\n",
    "preEmp.insert(0, meanSub[0])"
   ]
  }
 ],
 "metadata": {
  "kernelspec": {
   "display_name": "Python 3",
   "language": "python",
   "name": "python3"
  },
  "language_info": {
   "codemirror_mode": {
    "name": "ipython",
    "version": 3
   },
   "file_extension": ".py",
   "mimetype": "text/x-python",
   "name": "python",
   "nbconvert_exporter": "python",
   "pygments_lexer": "ipython3",
   "version": "3.10.0"
  },
  "orig_nbformat": 4,
  "vscode": {
   "interpreter": {
    "hash": "4b3905357c03fbbc95c5017bee6e37e17c89c1389c033d6544744fbc672b4bc7"
   }
  }
 },
 "nbformat": 4,
 "nbformat_minor": 2
}
