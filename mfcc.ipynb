{
 "cells": [
  {
   "cell_type": "code",
   "execution_count": 8,
   "metadata": {},
   "outputs": [],
   "source": [
    "import scipy.io\n",
    "import scipy.signal\n",
    "import matplotlib\n",
    "import numpy as np"
   ]
  },
  {
   "cell_type": "code",
   "execution_count": 9,
   "metadata": {},
   "outputs": [
    {
     "name": "stdout",
     "output_type": "stream",
     "text": [
      "Sample rate is: 16000 and the number of signals is: 18091\n",
      "This corresponds to 1.1306875 seconds\n"
     ]
    }
   ],
   "source": [
    "#Loading the audio file\n",
    "signal = scipy.io.wavfile.read('signal.wav')\n",
    "numSamples = len(signal[1])\n",
    "print('Sample rate is:', signal[0], 'and the number of signals is:', numSamples)\n",
    "print('This corresponds to', numSamples/signal[0], 'seconds')"
   ]
  },
  {
   "cell_type": "code",
   "execution_count": 10,
   "metadata": {},
   "outputs": [
    {
     "name": "stdout",
     "output_type": "stream",
     "text": [
      "11756.525786302582\n"
     ]
    }
   ],
   "source": [
    "#Mean subtraction\n",
    "mean = np.mean(signal[1])\n",
    "print(mean)\n",
    "meanSub = signal[1] - mean"
   ]
  },
  {
   "cell_type": "code",
   "execution_count": 16,
   "metadata": {},
   "outputs": [
    {
     "name": "stdout",
     "output_type": "stream",
     "text": [
      "[ 279946.55422641 -120352.58577359  -41547.25577359 ...  102152.87422641\n",
      " -137258.38577359 -149305.20577359]\n"
     ]
    }
   ],
   "source": [
    "#Pre-emphasis\n",
    "b = 0.97 #given constant\n",
    "np.insert(meanSub, 0, 0)\n",
    "preEmp = np.array([meanSub[i]-b*meanSub[i-1] for i in range(1, numSamples-1)])\n",
    "#np.insert(preEmp, 0, meanSub[0])\n",
    "print(preEmp)\n",
    "\n"
   ]
  },
  {
   "cell_type": "code",
   "execution_count": null,
   "metadata": {},
   "outputs": [],
   "source": [
    "#Computing frames\n",
    "#Window length 𝐿 set to 25 milliseconds: this is (25/1000)/(1/16000) = 400 samples\n",
    "#Window shift 𝑆 set to 10 milliseconds: this is (16/1000)/(1/16000) = 256 samples\n",
    "L = 400\n",
    "S = 256\n",
    "#dimensions of the return array are ceil(numSamples/S) rows by L samples\n"
   ]
  },
  {
   "cell_type": "code",
   "execution_count": null,
   "metadata": {},
   "outputs": [],
   "source": [
    "#Applying window function"
   ]
  }
 ],
 "metadata": {
  "kernelspec": {
   "display_name": "Python 3",
   "language": "python",
   "name": "python3"
  },
  "language_info": {
   "codemirror_mode": {
    "name": "ipython",
    "version": 3
   },
   "file_extension": ".py",
   "mimetype": "text/x-python",
   "name": "python",
   "nbconvert_exporter": "python",
   "pygments_lexer": "ipython3",
   "version": "3.10.0"
  },
  "orig_nbformat": 4,
  "vscode": {
   "interpreter": {
    "hash": "4b3905357c03fbbc95c5017bee6e37e17c89c1389c033d6544744fbc672b4bc7"
   }
  }
 },
 "nbformat": 4,
 "nbformat_minor": 2
}
